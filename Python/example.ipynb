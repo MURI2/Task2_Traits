{
 "cells": [
  {
   "cell_type": "code",
   "execution_count": 1,
   "metadata": {
    "collapsed": true
   },
   "outputs": [],
   "source": [
    "%matplotlib inline\n",
    "import os\n",
    "# pandas is used to manage data\n",
    "import pandas as pd\n",
    "# matplotlib is used to make plots\n",
    "import  matplotlib.pyplot as plt\n",
    "from IPython.display import Image"
   ]
  },
  {
   "cell_type": "code",
   "execution_count": 2,
   "metadata": {
    "collapsed": true
   },
   "outputs": [],
   "source": [
    "mydir = os.path.expanduser(\"~/GitHub/Task2_Traits/\")"
   ]
  },
  {
   "cell_type": "markdown",
   "metadata": {},
   "source": [
    "You just got some nice growth curve data where we fit the Gompertz equation to each sample. From the Gompertz equation we get four parameters that describe the shape of the growth curve. \n",
    "\n",
    "$\\lambda=$ the lag parameter\n",
    "\n",
    "$A=$ Yield\n",
    "\n",
    "$u_{max}=$ the maximum rate of growth\n",
    "\n",
    "$b_{0}=$ the intercept of the line\n",
    "\n",
    "Three of the four parameters are shown in the figure below "
   ]
  },
  {
   "cell_type": "code",
   "execution_count": 3,
   "metadata": {},
   "outputs": [
    {
     "data": {
      "image/png": "[encoded data removed]",
      "text/plain": [
       "<IPython.core.display.Image object>"
      ]
     },
     "execution_count": 3,
     "metadata": {},
     "output_type": "execute_result"
    }
   ],
   "source": [
    "Image(filename = mydir + 'figures/gomp_example.png') "
   ]
  },
  {
   "cell_type": "code",
   "execution_count": 4,
   "metadata": {
    "collapsed": true
   },
   "outputs": [],
   "source": [
    "# import the dataset\n",
    "IN = pd.read_csv(mydir + 'data/mergedParams.txt', sep = '\\t')"
   ]
  },
  {
   "cell_type": "markdown",
   "metadata": {},
   "source": [
    "Lets look at the first five rows."
   ]
  },
  {
   "cell_type": "code",
   "execution_count": 5,
   "metadata": {},
   "outputs": [
    {
     "data": {
      "text/html": [
       "<div>\n",
       "<style>\n",
       "    .dataframe thead tr:only-child th {\n",
       "        text-align: right;\n",
       "    }\n",
       "\n",
       "    .dataframe thead th {\n",
       "        text-align: left;\n",
       "    }\n",
       "\n",
       "    .dataframe tbody tr th {\n",
       "        vertical-align: top;\n",
       "    }\n",
       "</style>\n",
       "<table border=\"1\" class=\"dataframe\">\n",
       "  <thead>\n",
       "    <tr style=\"text-align: right;\">\n",
       "      <th></th>\n",
       "      <th>Sample</th>\n",
       "      <th>Rep</th>\n",
       "      <th>b0</th>\n",
       "      <th>A</th>\n",
       "      <th>umax</th>\n",
       "      <th>L</th>\n",
       "      <th>z</th>\n",
       "      <th>umax_lw</th>\n",
       "      <th>umax_up</th>\n",
       "      <th>umax_lw_FI</th>\n",
       "      <th>umax_up_FI</th>\n",
       "      <th>TransferTime</th>\n",
       "      <th>Strain</th>\n",
       "      <th>Replicate</th>\n",
       "      <th>Day</th>\n",
       "    </tr>\n",
       "  </thead>\n",
       "  <tbody>\n",
       "    <tr>\n",
       "      <th>0</th>\n",
       "      <td>L0B1-100</td>\n",
       "      <td>1</td>\n",
       "      <td>0.086851</td>\n",
       "      <td>0.566021</td>\n",
       "      <td>0.143656</td>\n",
       "      <td>6.035135</td>\n",
       "      <td>-2.062102</td>\n",
       "      <td>0.089979</td>\n",
       "      <td>0.197333</td>\n",
       "      <td>0.089978</td>\n",
       "      <td>0.197334</td>\n",
       "      <td>1</td>\n",
       "      <td>B</td>\n",
       "      <td>1</td>\n",
       "      <td>100</td>\n",
       "    </tr>\n",
       "    <tr>\n",
       "      <th>1</th>\n",
       "      <td>L0D1-100</td>\n",
       "      <td>1</td>\n",
       "      <td>0.050485</td>\n",
       "      <td>0.803536</td>\n",
       "      <td>0.109295</td>\n",
       "      <td>20.000000</td>\n",
       "      <td>-3.415981</td>\n",
       "      <td>0.102342</td>\n",
       "      <td>0.116248</td>\n",
       "      <td>0.102342</td>\n",
       "      <td>0.116248</td>\n",
       "      <td>1</td>\n",
       "      <td>D</td>\n",
       "      <td>1</td>\n",
       "      <td>100</td>\n",
       "    </tr>\n",
       "    <tr>\n",
       "      <th>2</th>\n",
       "      <td>L0F1-100</td>\n",
       "      <td>1</td>\n",
       "      <td>0.078446</td>\n",
       "      <td>1.084428</td>\n",
       "      <td>0.126298</td>\n",
       "      <td>9.340900</td>\n",
       "      <td>-2.609654</td>\n",
       "      <td>0.115189</td>\n",
       "      <td>0.137406</td>\n",
       "      <td>0.115189</td>\n",
       "      <td>0.137406</td>\n",
       "      <td>1</td>\n",
       "      <td>F</td>\n",
       "      <td>1</td>\n",
       "      <td>100</td>\n",
       "    </tr>\n",
       "    <tr>\n",
       "      <th>3</th>\n",
       "      <td>L0B1-100</td>\n",
       "      <td>2</td>\n",
       "      <td>0.083210</td>\n",
       "      <td>0.747983</td>\n",
       "      <td>0.122232</td>\n",
       "      <td>5.916187</td>\n",
       "      <td>-2.950842</td>\n",
       "      <td>0.108705</td>\n",
       "      <td>0.135758</td>\n",
       "      <td>0.108705</td>\n",
       "      <td>0.135759</td>\n",
       "      <td>1</td>\n",
       "      <td>B</td>\n",
       "      <td>1</td>\n",
       "      <td>100</td>\n",
       "    </tr>\n",
       "    <tr>\n",
       "      <th>4</th>\n",
       "      <td>L0D1-100</td>\n",
       "      <td>2</td>\n",
       "      <td>0.050238</td>\n",
       "      <td>0.881675</td>\n",
       "      <td>0.098122</td>\n",
       "      <td>20.000000</td>\n",
       "      <td>-3.953679</td>\n",
       "      <td>0.094809</td>\n",
       "      <td>0.101436</td>\n",
       "      <td>0.094809</td>\n",
       "      <td>0.101436</td>\n",
       "      <td>1</td>\n",
       "      <td>D</td>\n",
       "      <td>1</td>\n",
       "      <td>100</td>\n",
       "    </tr>\n",
       "  </tbody>\n",
       "</table>\n",
       "</div>"
      ],
      "text/plain": [
       "     Sample  Rep        b0         A      umax          L         z   umax_lw  \\\n",
       "0  L0B1-100    1  0.086851  0.566021  0.143656   6.035135 -2.062102  0.089979   \n",
       "1  L0D1-100    1  0.050485  0.803536  0.109295  20.000000 -3.415981  0.102342   \n",
       "2  L0F1-100    1  0.078446  1.084428  0.126298   9.340900 -2.609654  0.115189   \n",
       "3  L0B1-100    2  0.083210  0.747983  0.122232   5.916187 -2.950842  0.108705   \n",
       "4  L0D1-100    2  0.050238  0.881675  0.098122  20.000000 -3.953679  0.094809   \n",
       "\n",
       "    umax_up  umax_lw_FI  umax_up_FI  TransferTime Strain  Replicate  Day  \n",
       "0  0.197333    0.089978    0.197334             1      B          1  100  \n",
       "1  0.116248    0.102342    0.116248             1      D          1  100  \n",
       "2  0.137406    0.115189    0.137406             1      F          1  100  \n",
       "3  0.135758    0.108705    0.135759             1      B          1  100  \n",
       "4  0.101436    0.094809    0.101436             1      D          1  100  "
      ]
     },
     "execution_count": 5,
     "metadata": {},
     "output_type": "execute_result"
    }
   ],
   "source": [
    "IN.head(n=5)"
   ]
  },
  {
   "cell_type": "markdown",
   "metadata": {},
   "source": [
    "Let's take a look at how $u_{max}$ changes for *Bacillus* at day 100. To do this we'll first subset the data, extracting only the rows where `Strain = B`"
   ]
  },
  {
   "cell_type": "code",
   "execution_count": 7,
   "metadata": {},
   "outputs": [
    {
     "data": {
      "text/html": [
       "<div>\n",
       "<style>\n",
       "    .dataframe thead tr:only-child th {\n",
       "        text-align: right;\n",
       "    }\n",
       "\n",
       "    .dataframe thead th {\n",
       "        text-align: left;\n",
       "    }\n",
       "\n",
       "    .dataframe tbody tr th {\n",
       "        vertical-align: top;\n",
       "    }\n",
       "</style>\n",
       "<table border=\"1\" class=\"dataframe\">\n",
       "  <thead>\n",
       "    <tr style=\"text-align: right;\">\n",
       "      <th></th>\n",
       "      <th>Sample</th>\n",
       "      <th>Rep</th>\n",
       "      <th>b0</th>\n",
       "      <th>A</th>\n",
       "      <th>umax</th>\n",
       "      <th>L</th>\n",
       "      <th>z</th>\n",
       "      <th>umax_lw</th>\n",
       "      <th>umax_up</th>\n",
       "      <th>umax_lw_FI</th>\n",
       "      <th>umax_up_FI</th>\n",
       "      <th>TransferTime</th>\n",
       "      <th>Strain</th>\n",
       "      <th>Replicate</th>\n",
       "      <th>Day</th>\n",
       "    </tr>\n",
       "  </thead>\n",
       "  <tbody>\n",
       "    <tr>\n",
       "      <th>0</th>\n",
       "      <td>L0B1-100</td>\n",
       "      <td>1</td>\n",
       "      <td>0.086851</td>\n",
       "      <td>0.566021</td>\n",
       "      <td>0.143656</td>\n",
       "      <td>6.035135</td>\n",
       "      <td>-2.062102</td>\n",
       "      <td>0.089979</td>\n",
       "      <td>0.197333</td>\n",
       "      <td>0.089978</td>\n",
       "      <td>0.197334</td>\n",
       "      <td>1</td>\n",
       "      <td>B</td>\n",
       "      <td>1</td>\n",
       "      <td>100</td>\n",
       "    </tr>\n",
       "    <tr>\n",
       "      <th>3</th>\n",
       "      <td>L0B1-100</td>\n",
       "      <td>2</td>\n",
       "      <td>0.083210</td>\n",
       "      <td>0.747983</td>\n",
       "      <td>0.122232</td>\n",
       "      <td>5.916187</td>\n",
       "      <td>-2.950842</td>\n",
       "      <td>0.108705</td>\n",
       "      <td>0.135758</td>\n",
       "      <td>0.108705</td>\n",
       "      <td>0.135759</td>\n",
       "      <td>1</td>\n",
       "      <td>B</td>\n",
       "      <td>1</td>\n",
       "      <td>100</td>\n",
       "    </tr>\n",
       "    <tr>\n",
       "      <th>6</th>\n",
       "      <td>L0B1-100</td>\n",
       "      <td>3</td>\n",
       "      <td>0.087330</td>\n",
       "      <td>0.692355</td>\n",
       "      <td>0.124918</td>\n",
       "      <td>6.192774</td>\n",
       "      <td>-2.664453</td>\n",
       "      <td>0.104602</td>\n",
       "      <td>0.145234</td>\n",
       "      <td>0.104601</td>\n",
       "      <td>0.145234</td>\n",
       "      <td>1</td>\n",
       "      <td>B</td>\n",
       "      <td>1</td>\n",
       "      <td>100</td>\n",
       "    </tr>\n",
       "    <tr>\n",
       "      <th>8</th>\n",
       "      <td>L0B2-100</td>\n",
       "      <td>1</td>\n",
       "      <td>0.085483</td>\n",
       "      <td>0.991886</td>\n",
       "      <td>0.134640</td>\n",
       "      <td>5.702287</td>\n",
       "      <td>-2.008899</td>\n",
       "      <td>0.110695</td>\n",
       "      <td>0.158584</td>\n",
       "      <td>0.110695</td>\n",
       "      <td>0.158585</td>\n",
       "      <td>1</td>\n",
       "      <td>B</td>\n",
       "      <td>2</td>\n",
       "      <td>100</td>\n",
       "    </tr>\n",
       "    <tr>\n",
       "      <th>11</th>\n",
       "      <td>L0B2-100</td>\n",
       "      <td>2</td>\n",
       "      <td>0.083354</td>\n",
       "      <td>1.046616</td>\n",
       "      <td>0.126757</td>\n",
       "      <td>5.694813</td>\n",
       "      <td>-2.381478</td>\n",
       "      <td>0.112279</td>\n",
       "      <td>0.141235</td>\n",
       "      <td>0.112278</td>\n",
       "      <td>0.141235</td>\n",
       "      <td>1</td>\n",
       "      <td>B</td>\n",
       "      <td>2</td>\n",
       "      <td>100</td>\n",
       "    </tr>\n",
       "  </tbody>\n",
       "</table>\n",
       "</div>"
      ],
      "text/plain": [
       "      Sample  Rep        b0         A      umax         L         z   umax_lw  \\\n",
       "0   L0B1-100    1  0.086851  0.566021  0.143656  6.035135 -2.062102  0.089979   \n",
       "3   L0B1-100    2  0.083210  0.747983  0.122232  5.916187 -2.950842  0.108705   \n",
       "6   L0B1-100    3  0.087330  0.692355  0.124918  6.192774 -2.664453  0.104602   \n",
       "8   L0B2-100    1  0.085483  0.991886  0.134640  5.702287 -2.008899  0.110695   \n",
       "11  L0B2-100    2  0.083354  1.046616  0.126757  5.694813 -2.381478  0.112279   \n",
       "\n",
       "     umax_up  umax_lw_FI  umax_up_FI  TransferTime Strain  Replicate  Day  \n",
       "0   0.197333    0.089978    0.197334             1      B          1  100  \n",
       "3   0.135758    0.108705    0.135759             1      B          1  100  \n",
       "6   0.145234    0.104601    0.145234             1      B          1  100  \n",
       "8   0.158584    0.110695    0.158585             1      B          2  100  \n",
       "11  0.141235    0.112278    0.141235             1      B          2  100  "
      ]
     },
     "execution_count": 7,
     "metadata": {},
     "output_type": "execute_result"
    }
   ],
   "source": [
    "B = IN.loc[IN['Strain'] == 'B']\n",
    "B.head(n=5)"
   ]
  },
  {
   "cell_type": "markdown",
   "metadata": {},
   "source": [
    "Now we take the average $u_{max}$ for our technical replicates."
   ]
  },
  {
   "cell_type": "code",
   "execution_count": 8,
   "metadata": {
    "collapsed": true
   },
   "outputs": [],
   "source": [
    "def getTransferTime(x):\n",
    "    if x[1] == str(0):\n",
    "        return 1\n",
    "    elif x[1] == str(1):\n",
    "        return 10\n",
    "    elif x[1] == str(2):\n",
    "        return 100"
   ]
  },
  {
   "cell_type": "code",
   "execution_count": 20,
   "metadata": {},
   "outputs": [],
   "source": [
    "mean = B[[\"A\", \"umax\", \"L\"]].groupby(B['Sample']).mean().reset_index()\n",
    "mean['TransferTime'] = mean['Sample'].apply(getTransferTime)\n",
    "mean['Strain'] = mean['Sample'].apply(lambda x: x[2])\n",
    "mean['Replicate'] = mean['Sample'].apply(lambda x: x[3])\n",
    "mean['Day'] = mean['Sample'].apply(lambda x: x[-3:])\n",
    "# only take samples from day 100\n",
    "mean_100 = mean.loc[mean['Day'] == '100']"
   ]
  },
  {
   "cell_type": "markdown",
   "metadata": {},
   "source": [
    "When it's time to do a more formal, regression-based analysis we won't do this, but for now to get an idea of the difference in $u_{max}$ we'll just take the mean and plot the difference among replicate populations."
   ]
  },
  {
   "cell_type": "code",
   "execution_count": 35,
   "metadata": {},
   "outputs": [],
   "source": [
    "def make_fig(mean_100, param):  \n",
    "    mean_100_1day = mean_100.loc[mean_100['TransferTime'] == 1]\n",
    "    mean_100_10day = mean_100.loc[mean_100['TransferTime'] == 10]\n",
    "\n",
    "    data_to_plot = [mean_100_1day[param], mean_100_10day[param]]\n",
    "\n",
    "    # Create a figure instance\n",
    "    fig = plt.figure(1, figsize=(9, 6))\n",
    "    # Create an axes instance\n",
    "    ax = fig.add_subplot(111)\n",
    "\n",
    "    # Create the boxplot\n",
    "    bp = ax.boxplot(data_to_plot)\n",
    "    ## add patch_artist=True option to ax.boxplot() \n",
    "    ## to get fill color\n",
    "    bp = ax.boxplot(data_to_plot, patch_artist=True)\n",
    "\n",
    "    ## change outline color, fill color and linewidth of the boxes\n",
    "    for box in bp['boxes']:\n",
    "        # change outline color\n",
    "        box.set( color='#7570b3', linewidth=2)\n",
    "        # change fill color\n",
    "        box.set( facecolor = '#1b9e77' )\n",
    "\n",
    "    ## change color and linewidth of the whiskers\n",
    "    for whisker in bp['whiskers']:\n",
    "        whisker.set(color='#7570b3', linewidth=2)\n",
    "\n",
    "    ## change color and linewidth of the caps\n",
    "    for cap in bp['caps']:\n",
    "        cap.set(color='#7570b3', linewidth=2)\n",
    "\n",
    "    ## change color and linewidth of the medians\n",
    "    for median in bp['medians']:\n",
    "        median.set(color='#b2df8a', linewidth=2)\n",
    "\n",
    "    ## change the style of fliers and their fill\n",
    "    for flier in bp['fliers']:\n",
    "        flier.set(marker='o', color='#e7298a', alpha=0.5)\n",
    "\n",
    "    ## Custom x-axis labels\n",
    "    ax.set_xticklabels(['1-Day', '10-Day'])\n",
    "    ## Remove top axes and right axes ticks\n",
    "    ax.get_xaxis().tick_bottom()\n",
    "    ax.get_yaxis().tick_left()\n",
    "    \n",
    "    if param == 'umax':\n",
    "        ax.set_ylabel(r'$u_{max}$', fontsize = 25)\n",
    "    elif param == 'A':\n",
    "        ax.set_ylabel(r'$A$', fontsize = 25)\n",
    "    elif param == 'L':\n",
    "        ax.set_ylabel(r'$\\lambda$', fontsize = 25)\n",
    "    else:\n",
    "        ax.set_ylabel('', fontsize = 25)"
   ]
  },
  {
   "cell_type": "code",
   "execution_count": 36,
   "metadata": {},
   "outputs": [
    {
     "data": {
      "image/png": "[encoded data removed]",
      "text/plain": [
       "<matplotlib.figure.Figure at 0x11467ff90>"
      ]
     },
     "metadata": {},
     "output_type": "display_data"
    }
   ],
   "source": [
    "make_fig(mean_100, param = 'umax')"
   ]
  },
  {
   "cell_type": "code",
   "execution_count": 37,
   "metadata": {},
   "outputs": [
    {
     "data": {
      "image/png": "[encoded data removed]",
      "text/plain": [
       "<matplotlib.figure.Figure at 0x1148e3850>"
      ]
     },
     "metadata": {},
     "output_type": "display_data"
    }
   ],
   "source": [
    "make_fig(mean_100, param = 'A')"
   ]
  },
  {
   "cell_type": "code",
   "execution_count": 38,
   "metadata": {},
   "outputs": [
    {
     "data": {
      "image/png": "[encoded data removed]",
      "text/plain": [
       "<matplotlib.figure.Figure at 0x11495fb10>"
      ]
     },
     "metadata": {},
     "output_type": "display_data"
    }
   ],
   "source": [
    "make_fig(mean_100, param = 'L')"
   ]
  },
  {
   "cell_type": "markdown",
   "metadata": {},
   "source": [
    "So $u_{max}$ isn't really that different, but 1-day lines have a higher yield and a lower lag-time."
   ]
  },
  {
   "cell_type": "code",
   "execution_count": null,
   "metadata": {
    "collapsed": true
   },
   "outputs": [],
   "source": []
  }
 ],
 "metadata": {
  "kernelspec": {
   "display_name": "Python 2",
   "language": "python",
   "name": "python2"
  },
  "language_info": {
   "codemirror_mode": {
    "name": "ipython",
    "version": 2
   },
   "file_extension": ".py",
   "mimetype": "text/x-python",
   "name": "python",
   "nbconvert_exporter": "python",
   "pygments_lexer": "ipython2",
   "version": "2.7.13"
  }
 },
 "nbformat": 4,
 "nbformat_minor": 2
}
